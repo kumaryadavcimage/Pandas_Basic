{
 "cells": [
  {
   "cell_type": "markdown",
   "id": "87489c29-9e0b-4e06-9de5-f1449366a77a",
   "metadata": {},
   "source": [
    "#### Q1. Create a Pandas Series that contains the following data: 4, 8, 15, 16, 23, and 42. Then, print the series."
   ]
  },
  {
   "cell_type": "markdown",
   "id": "b7cfc8ed-22ac-4210-b61a-e04fbb2d3b9b",
   "metadata": {},
   "source": [
    "#### Certainly! You can create a Pandas Series with the given data using the following code in Python:"
   ]
  },
  {
   "cell_type": "code",
   "execution_count": 1,
   "id": "1625cefb-6ded-482f-b1a6-2f753a2e397c",
   "metadata": {},
   "outputs": [
    {
     "name": "stdout",
     "output_type": "stream",
     "text": [
      "0     4\n",
      "1     8\n",
      "2    15\n",
      "3    16\n",
      "4    23\n",
      "5    42\n",
      "dtype: int64\n"
     ]
    }
   ],
   "source": [
    "import pandas as pd\n",
    "\n",
    "# Create a Pandas Series\n",
    "data = [4, 8, 15, 16, 23, 42]\n",
    "my_series = pd.Series(data)\n",
    "\n",
    "# Print the series\n",
    "print(my_series)\n"
   ]
  },
  {
   "cell_type": "markdown",
   "id": "66c1cee5-af09-49fe-9e2f-75af3fdefdc7",
   "metadata": {},
   "source": [
    "####\n",
    "This will outpupt:"
   ]
  },
  {
   "cell_type": "code",
   "execution_count": null,
   "id": "71f5ad79-4c9e-41b2-95b4-8f8ed0596f11",
   "metadata": {},
   "outputs": [],
   "source": [
    "0     4\n",
    "1     8\n",
    "2    15\n",
    "3    16\n",
    "4    23\n",
    "5    42\n",
    "dtype: int64\n"
   ]
  },
  {
   "cell_type": "markdown",
   "id": "d8819d59-78a9-488e-9b18-7e3b6e84110c",
   "metadata": {},
   "source": [
    "####\n",
    "The index is automatically assigned starting from 0, and the data from your list is stored in the series."
   ]
  },
  {
   "cell_type": "markdown",
   "id": "10a42f1a-8a6e-4589-9759-e620b47807ff",
   "metadata": {},
   "source": [
    "#### Q2. Create a variable of list type containing 10 elements in it, and apply pandas.Series function on the variable print it.\n"
   ]
  },
  {
   "cell_type": "markdown",
   "id": "9750474f-8b06-428d-9170-80b0de740a96",
   "metadata": {},
   "source": [
    "#### solve\n",
    "Create a variable of list type containing 10 elements in it, and apply pandas.Series function on the variable print it."
   ]
  },
  {
   "cell_type": "code",
   "execution_count": 3,
   "id": "e0508476-496e-41f9-9aaa-32350296b05e",
   "metadata": {},
   "outputs": [
    {
     "name": "stdout",
     "output_type": "stream",
     "text": [
      "0     1\n",
      "1     2\n",
      "2     3\n",
      "3     4\n",
      "4     5\n",
      "5     6\n",
      "6     7\n",
      "7     8\n",
      "8     9\n",
      "9    10\n",
      "dtype: int64\n"
     ]
    }
   ],
   "source": [
    "import pandas as pd\n",
    "\n",
    "# Create a list with 10 elements\n",
    "my_list = [1, 2, 3, 4, 5, 6, 7, 8, 9, 10]\n",
    "\n",
    "# Convert the list to a Pandas Series\n",
    "my_series = pd.Series(my_list)\n",
    "\n",
    "# Print the series\n",
    "print(my_series)\n"
   ]
  },
  {
   "cell_type": "markdown",
   "id": "528ac2e6-c212-4337-80a8-68d456948a02",
   "metadata": {},
   "source": [
    "####\n",
    "In this example, the list my_list is converted into a Pandas Series using the pd.Series() function, and the resulting series is printed."
   ]
  },
  {
   "cell_type": "markdown",
   "id": "82c43662-931b-46b2-9548-9079fd16f367",
   "metadata": {},
   "source": [
    "#### Q3. Create a Pandas DataFrame that contains the following data: Then, print the DataFrame.\n"
   ]
  },
  {
   "cell_type": "markdown",
   "id": "b0bf67d1-633b-4bb7-adb6-2d101b554148",
   "metadata": {},
   "source": [
    "#### solve\n",
    "\n",
    "It seems like you forgot to provide the specific data for the Pandas DataFrame. However, I'll provide an example with some random data:"
   ]
  },
  {
   "cell_type": "code",
   "execution_count": 4,
   "id": "26d72719-5a02-40e4-9c42-dd7ab42ee1ed",
   "metadata": {},
   "outputs": [
    {
     "name": "stdout",
     "output_type": "stream",
     "text": [
      "      Name  Age           City\n",
      "0    Alice   25       New York\n",
      "1      Bob   30  San Francisco\n",
      "2  Charlie   22    Los Angeles\n",
      "3    David   28        Chicago\n"
     ]
    }
   ],
   "source": [
    "import pandas as pd\n",
    "\n",
    "# Example data for the DataFrame\n",
    "data = {\n",
    "    'Name': ['Alice', 'Bob', 'Charlie', 'David'],\n",
    "    'Age': [25, 30, 22, 28],\n",
    "    'City': ['New York', 'San Francisco', 'Los Angeles', 'Chicago']\n",
    "}\n",
    "\n",
    "# Create a Pandas DataFrame\n",
    "my_dataframe = pd.DataFrame(data)\n",
    "\n",
    "# Print the DataFrame\n",
    "print(my_dataframe)\n"
   ]
  },
  {
   "cell_type": "markdown",
   "id": "ce1cc525-0637-472f-8a49-aac16d20b064",
   "metadata": {},
   "source": [
    "####\n",
    "Replace the data dictionary with your specific data. Each key in the dictionary corresponds to a column in the DataFrame, and the values are lists containing the data for each column. The above example will output:"
   ]
  },
  {
   "cell_type": "markdown",
   "id": "3f9018d8-7f2b-4970-95e5-d365e611c449",
   "metadata": {},
   "source": [
    "#### Q4. What is ‘DataFrame’ in pandas and how is it different from pandas.series? Explain with an example."
   ]
  },
  {
   "cell_type": "markdown",
   "id": "c6a3f83b-caf6-45c9-bb61-81313f3427ee",
   "metadata": {},
   "source": [
    "#### solve\n",
    "\n",
    "In pandas, both DataFrame and Series are essential data structures, but they serve different purposes.\n",
    "\n",
    "DataFrame:\n",
    "\n",
    "A DataFrame is a two-dimensional, tabular data structure in pandas. It is essentially a container for Series objects with the same index, and it is similar to a spreadsheet or SQL table.\n",
    "\n",
    "It has rows and columns, where each column can be of a different data type.\n",
    "\n",
    "You can think of a DataFrame as a collection of Series where each Series represents a column in the DataFrame.\n",
    "\n",
    "It is capable of handling various types of data and is suitable for working with structured data.\n",
    "\n",
    "Series:\n",
    "\n",
    "A Series, on the other hand, is a one-dimensional labeled array. It is essentially a single column of a DataFrame.\n",
    "\n",
    "A Series has an index that labels each element in the array. This index can be automatically generated or explicitly set.\n",
    "\n",
    "It is suitable for handling one-dimensional data and is often used for time series data, among other applications.\n",
    "\n",
    "Example:"
   ]
  },
  {
   "cell_type": "code",
   "execution_count": 5,
   "id": "0b606164-7eaf-4faa-a4c3-09eb87bc9f8d",
   "metadata": {},
   "outputs": [
    {
     "name": "stdout",
     "output_type": "stream",
     "text": [
      "Series:\n",
      "0    10\n",
      "1    20\n",
      "2    30\n",
      "3    40\n",
      "Name: MySeries, dtype: int64\n",
      "\n",
      "DataFrame:\n",
      "      Name  Age           City\n",
      "0    Alice   25       New York\n",
      "1      Bob   30  San Francisco\n",
      "2  Charlie   22    Los Angeles\n",
      "3    David   28        Chicago\n"
     ]
    }
   ],
   "source": [
    "import pandas as pd\n",
    "\n",
    "# Creating a Series\n",
    "my_series = pd.Series([10, 20, 30, 40], name='MySeries')\n",
    "\n",
    "# Creating a DataFrame\n",
    "data = {'Name': ['Alice', 'Bob', 'Charlie', 'David'],\n",
    "        'Age': [25, 30, 22, 28],\n",
    "        'City': ['New York', 'San Francisco', 'Los Angeles', 'Chicago']}\n",
    "\n",
    "my_dataframe = pd.DataFrame(data)\n",
    "\n",
    "# Printing Series and DataFrame\n",
    "print(\"Series:\")\n",
    "print(my_series)\n",
    "print(\"\\nDataFrame:\")\n",
    "print(my_dataframe)\n"
   ]
  },
  {
   "cell_type": "markdown",
   "id": "7bf8d8fa-99ba-47cf-977c-d9c450ee1f51",
   "metadata": {},
   "source": [
    "####\n",
    "In the example above, my_series is a one-dimensional labeled array, and my_dataframe is a two-dimensional tabular structure with multiple columns, where each column is a Series. The DataFrame provides a convenient way to organize and manipulate structured data, while the Series is used when dealing with one-dimensional data."
   ]
  },
  {
   "cell_type": "markdown",
   "id": "3bfc1f57-8a27-4b1b-9219-c9477b8020e4",
   "metadata": {},
   "source": [
    "#### Q5. What are some common functions you can use to manipulate data in a Pandas DataFrame? Can you give an example of when you might use one of these functions?\n"
   ]
  },
  {
   "cell_type": "markdown",
   "id": "a0f89267-b0d7-496c-bc6c-016c74044494",
   "metadata": {},
   "source": [
    "#### solve\n",
    "\n",
    "Pandas provides a wide range of functions for manipulating and analyzing data in a DataFrame. Here are some common functions:\n",
    "\n",
    "a.head() and tail(): These functions allow you to view the first or last n rows of your DataFrame.\n",
    "\n",
    "b.Describe(): provides summary statistics of numerical coulums in the DataFrame\n",
    "\n",
    "c.info(): Gives a concise summary of a DataFrame, including data types and missing values.\n",
    "\n",
    "d.Shape: Returns the dimensions (rows, coulumns) of the DataFrame\n",
    "\n",
    "c.loc[] and iloc[]: Used for acessing a group of rows and coulumns by lables('loc[]')  or integer-based indexing ('iloc[]')\n",
    "\n",
    "e.groupby(): Groups the DataFrame by one or more columns for further analysis.\n",
    "\n",
    "f.sort_values(): Sorts the DataFrame by specified columns.\n",
    "\n",
    "g.drop(): Allows you to remove specified rows or columns from the DataFrame.\n",
    "\n",
    "h.fillna(): Fills missing values with a specified value or a method like forward fill or backward fill.\n",
    "\n",
    "i.fillna(): Fills missing values with a specified value or a method like forward fill or backward fill."
   ]
  },
  {
   "cell_type": "markdown",
   "id": "9c487c09-9c11-432b-a6de-c0fe5763769d",
   "metadata": {},
   "source": [
    "#### Q6. Which of the following is mutable in nature Series, DataFrame, Panel?"
   ]
  },
  {
   "cell_type": "markdown",
   "id": "2ee4f6b5-df1c-4268-ad63-173cfddadfa2",
   "metadata": {},
   "source": [
    "#### solve\n",
    "\n",
    "In Pandas, the Series and DataFrame are mutable, whereas the Panel is not mutable.\n",
    "\n",
    "Series: A Pandas Series is mutable, meaning you can modify its values and attributes after it has been created.\n",
    "\n",
    "DataFrame: Similarly, a Pandas DataFrame is mutable. You can modify its data, add or remove columns, and perform various operations to change its structure or content.\n",
    "\n",
    "Panel: Pandas Panel, on the other hand, is considered deprecated as of version 0.25.0. It is recommended to use multi-index DataFrames or the xarray library for three-dimensional data. However, Panels, when they were part of Pandas, were considered immutable.\n",
    "\n",
    "In summary, Series and DataFrame are mutable, while Panel, which is no longer a major component of Pandas, is considered immutable."
   ]
  },
  {
   "cell_type": "markdown",
   "id": "fab8aae8-184a-4341-b2cc-6895753099b5",
   "metadata": {},
   "source": [
    "#### Q7. Create a DataFrame using multiple Series. Explain with an example."
   ]
  },
  {
   "cell_type": "markdown",
   "id": "c543b829-87c8-4f6f-b0f6-18cdde1b5ab6",
   "metadata": {},
   "source": [
    "#### solve\n",
    "\n",
    "Certainly! You can create a DataFrame using multiple Series by combining them into a dictionary where keys are column names, and values are the Series. Here's an example:"
   ]
  },
  {
   "cell_type": "code",
   "execution_count": 6,
   "id": "1c335259-2ecf-4376-a421-80d427afc3c4",
   "metadata": {},
   "outputs": [
    {
     "name": "stdout",
     "output_type": "stream",
     "text": [
      "      Name  Age           City\n",
      "0    Alice   25       New York\n",
      "1      Bob   30  San Francisco\n",
      "2  Charlie   22    Los Angeles\n",
      "3    David   28        Chicago\n"
     ]
    }
   ],
   "source": [
    "import pandas as pd\n",
    "\n",
    "# Creating multiple Series\n",
    "name_series = pd.Series(['Alice', 'Bob', 'Charlie', 'David'], name='Name')\n",
    "age_series = pd.Series([25, 30, 22, 28], name='Age')\n",
    "city_series = pd.Series(['New York', 'San Francisco', 'Los Angeles', 'Chicago'], name='City')\n",
    "\n",
    "# Combining Series into a DataFrame\n",
    "data = {'Name': name_series, 'Age': age_series, 'City': city_series}\n",
    "my_dataframe = pd.DataFrame(data)\n",
    "\n",
    "# Print the DataFrame\n",
    "print(my_dataframe)\n"
   ]
  },
  {
   "cell_type": "markdown",
   "id": "81fad958-e492-4d23-9078-cf39e165a465",
   "metadata": {},
   "source": [
    "####\n",
    "In this example, three Series (name_series, age_series, and city_series) are combined into a dictionary data, where the keys are the column names ('Name', 'Age', 'City'), and the values are the respective Series. The dictionary is then used to create a DataFrame (my_dataframe). Each Series becomes a column in the resulting DataFrame"
   ]
  },
  {
   "cell_type": "code",
   "execution_count": null,
   "id": "151953e2-c612-434d-902d-2bf37a8f9b4e",
   "metadata": {},
   "outputs": [],
   "source": []
  }
 ],
 "metadata": {
  "kernelspec": {
   "display_name": "Python 3 (ipykernel)",
   "language": "python",
   "name": "python3"
  },
  "language_info": {
   "codemirror_mode": {
    "name": "ipython",
    "version": 3
   },
   "file_extension": ".py",
   "mimetype": "text/x-python",
   "name": "python",
   "nbconvert_exporter": "python",
   "pygments_lexer": "ipython3",
   "version": "3.10.8"
  }
 },
 "nbformat": 4,
 "nbformat_minor": 5
}
